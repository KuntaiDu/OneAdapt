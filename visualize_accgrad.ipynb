{
 "cells": [
  {
   "cell_type": "code",
   "execution_count": 6,
   "metadata": {},
   "outputs": [],
   "source": [
    "from subprocess import run, PIPE\n",
    "import subprocess"
   ]
  },
  {
   "cell_type": "code",
   "execution_count": 9,
   "metadata": {},
   "outputs": [],
   "source": [
    "for i in range(10):\n",
    "    run([\n",
    "        'ffmpeg',\n",
    "        '-y',\n",
    "        '-i',\n",
    "        '/dataheart/dataset/downtown/downtown_0/part0.mp4',\n",
    "        '-qp',\n",
    "        '20',\n",
    "        'temp.mp4'\n",
    "    ])"
   ]
  },
  {
   "cell_type": "code",
   "execution_count": 25,
   "metadata": {},
   "outputs": [
    {
     "name": "stdout",
     "output_type": "stream",
     "text": [
      "b\"ffmpeg version 5.0-static https://johnvansickle.com/ffmpeg/  Copyright (c) 2000-2022 the FFmpeg developers\\n  built with gcc 8 (Debian 8.3.0-6)\\n  configuration: --enable-gpl --enable-version3 --enable-static --disable-debug --disable-ffplay --disable-indev=sndio --disable-outdev=sndio --cc=gcc --enable-fontconfig --enable-frei0r --enable-gnutls --enable-gmp --enable-libgme --enable-gray --enable-libfribidi --enable-libass --enable-libfreetype --enable-libmp3lame --enable-libopencore-amrnb --enable-libopencore-amrwb --enable-libopenjpeg --enable-librubberband --enable-libsoxr --enable-libspeex --enable-libsrt --enable-libvorbis --enable-libopus --enable-libtheora --enable-libvidstab --enable-libvo-amrwbenc --enable-libvpx --enable-libwebp --enable-libx264 --enable-libx265 --enable-libxml2 --enable-libxvid --enable-libzimg\\n  libavutil      57. 17.100 / 57. 17.100\\n  libavcodec     59. 18.100 / 59. 18.100\\n  libavformat    59. 16.100 / 59. 16.100\\n  libavdevice    59.  4.100 / 59.  4.100\\n  libavfilter     8. 24.100 /  8. 24.100\\n  libswscale      6.  4.100 /  6.  4.100\\n  libswresample   4.  3.100 /  4.  3.100\\n  libpostproc    56.  3.100 / 56.  3.100\\nInput #0, mov,mp4,m4a,3gp,3g2,mj2, from '/dataheart/dataset/downtown/downtown_0/part0.mp4':\\n  Metadata:\\n    major_brand     : isom\\n    minor_version   : 512\\n    compatible_brands: isomiso2avc1mp41\\n    encoder         : Lavf59.16.100\\n  Duration: 00:00:01.00, start: 0.000000, bitrate: 11812 kb/s\\n  Stream #0:0[0x1](und): Video: h264 (High) (avc1 / 0x31637661), yuvj420p(pc, bt470bg/unknown/unknown, progressive), 1920x1080 [SAR 1:1 DAR 16:9], 11804 kb/s, 10 fps, 10 tbr, 10240 tbn (default)\\n    Metadata:\\n      handler_name    : VideoHandler\\n      vendor_id       : [0][0][0][0]\\nStream mapping:\\n  Stream #0:0 -> #0:0 (h264 (native) -> h264 (libx264))\\nPress [q] to stop, [?] for help\\n[libx264 @ 0xccf2540] using SAR=1/1\\n[libx264 @ 0xccf2540] using cpu capabilities: MMX2 SSE2Fast SSSE3 SSE4.2 AVX FMA3 BMI2 AVX2 AVX512\\n[libx264 @ 0xccf2540] profile High, level 4.0, 4:2:0, 8-bit\\n[libx264 @ 0xccf2540] 264 - core 164 r3081 19856cc - H.264/MPEG-4 AVC codec - Copyleft 2003-2021 - http://www.videolan.org/x264.html - options: cabac=1 ref=3 deblock=1:0:0 analyse=0x3:0x113 me=hex subme=7 psy=1 psy_rd=1.00:0.00 mixed_ref=1 me_range=16 chroma_me=1 trellis=1 8x8dct=1 cqm=0 deadzone=21,11 fast_pskip=1 chroma_qp_offset=-2 threads=34 lookahead_threads=5 sliced_threads=0 nr=0 decimate=1 interlaced=0 bluray_compat=0 constrained_intra=0 bframes=3 b_pyramid=2 b_adapt=1 b_bias=0 direct=1 weightb=1 open_gop=0 weightp=2 keyint=250 keyint_min=10 scenecut=40 intra_refresh=0 rc=cqp mbtree=0 qp=20 ip_ratio=1.40 pb_ratio=1.30 aq=0\\n[mp4 @ 0xcd0fb40] muxer does not support non seekable output\\nCould not write header for output file #0 (incorrect codec parameters ?): Invalid argument\\nError initializing output stream 0:0 -- \\nConversion failed!\\n\"\n"
     ]
    }
   ],
   "source": [
    "with open('/dataheart/dataset/downtown/downtown_0/part0.mp4', 'rb') as f:\n",
    "    dat = f.read()\n",
    "\n",
    "# for i in range(10):\n",
    "p = run([\n",
    "    'ffmpeg',\n",
    "    # '-f',\n",
    "    # 'mp4',\n",
    "    # '-i',\n",
    "    # 'pipe:',\n",
    "    '-i',\n",
    "    '/dataheart/dataset/downtown/downtown_0/part0.mp4',\n",
    "    '-qp',\n",
    "    '20',\n",
    "    '-f',\n",
    "    'mp4',\n",
    "    'pipe:'\n",
    "], input=dat, stdout=PIPE, stderr=PIPE)\n",
    "\n",
    "print(p.stderr)"
   ]
  },
  {
   "cell_type": "code",
   "execution_count": null,
   "metadata": {},
   "outputs": [],
   "source": []
  }
 ],
 "metadata": {
  "kernelspec": {
   "display_name": "Python 3.7.7",
   "language": "python",
   "name": "python3"
  },
  "language_info": {
   "codemirror_mode": {
    "name": "ipython",
    "version": 3
   },
   "file_extension": ".py",
   "mimetype": "text/x-python",
   "name": "python",
   "nbconvert_exporter": "python",
   "pygments_lexer": "ipython3",
   "version": "3.7.7"
  },
  "orig_nbformat": 4,
  "vscode": {
   "interpreter": {
    "hash": "cb3e538898d3d0440ac61c5e0899ad60ffcbd02aef2171cfba16db96668d2bde"
   }
  }
 },
 "nbformat": 4,
 "nbformat_minor": 2
}
